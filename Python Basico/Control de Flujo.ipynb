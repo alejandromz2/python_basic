{
 "cells": [
  {
   "cell_type": "markdown",
   "metadata": {},
   "source": [
    "### Control de flujo"
   ]
  },
  {
   "cell_type": "markdown",
   "metadata": {},
   "source": [
    "#### Sentencia If"
   ]
  },
  {
   "cell_type": "markdown",
   "metadata": {},
   "source": [
    "Se ejecuta el programa si se cumple la condición"
   ]
  },
  {
   "cell_type": "code",
   "execution_count": 1,
   "metadata": {},
   "outputs": [],
   "source": [
    "if True:\n",
    "    print(\"Se cumple la condición\")\n"
   ]
  },
  {
   "cell_type": "markdown",
   "metadata": {},
   "source": [
    "Para encadenar varios ifs usamos elif, y si usamos else creamos cadenas de flujo más complejas:"
   ]
  },
  {
   "cell_type": "code",
   "execution_count": 10,
   "metadata": {},
   "outputs": [
    {
     "name": "stdout",
     "output_type": "stream",
     "text": [
      "Ingrese una opción:entrar\n",
      "No se reconoce esta entrada\n"
     ]
    }
   ],
   "source": [
    "Comando = input(\"Ingrese una opción:\")\n",
    "\n",
    "if Comando == \"Entrar\":\n",
    "    print(\"Bienvenido\")\n",
    "elif Comando == \"Salir\":\n",
    "    print(\"Saliendo del sistema...\")\n",
    "else:\n",
    "    print(\"No se reconoce esta entrada\")"
   ]
  },
  {
   "cell_type": "markdown",
   "metadata": {},
   "source": [
    "#### Sentencia while"
   ]
  },
  {
   "cell_type": "markdown",
   "metadata": {},
   "source": [
    "Se basa en repetir un bloque a partir de evaluar una condición lógica, siempre que ésta sea True"
   ]
  },
  {
   "cell_type": "code",
   "execution_count": 6,
   "metadata": {},
   "outputs": [
    {
     "name": "stdout",
     "output_type": "stream",
     "text": [
      "c vale 1\n",
      "c vale 2\n",
      "c vale 3\n",
      "c vale 4\n",
      "c vale 5\n",
      "c vale 6\n",
      "Se ha completado toda la iteración y c vale 6\n"
     ]
    }
   ],
   "source": [
    "c = 0\n",
    "while c <= 5:\n",
    "    c+=1\n",
    "    print(\"c vale\", c)\n",
    "else:\n",
    "    print(\"Se ha completado toda la iteración y c vale\", c)"
   ]
  },
  {
   "cell_type": "markdown",
   "metadata": {},
   "source": [
    "La sentencia **break** nos sirve para salir de un bucle cuando nuestra variable de iteración llega a cierto valor"
   ]
  },
  {
   "cell_type": "code",
   "execution_count": 5,
   "metadata": {},
   "outputs": [
    {
     "name": "stdout",
     "output_type": "stream",
     "text": [
      "c vale 1\n",
      "Rompemos el bucle cuando c vale 2\n"
     ]
    }
   ],
   "source": [
    "c = 0\n",
    "while c <= 5:\n",
    "    c+=1\n",
    "    if (c==2):\n",
    "        print(\"Rompemos el bucle cuando c vale\",c)\n",
    "        break\n",
    "    print(\"c vale\", c)\n",
    "else:\n",
    "    print(\"Se ha completado toda la iteración y c vale\", c)"
   ]
  },
  {
   "cell_type": "markdown",
   "metadata": {},
   "source": [
    "En el caso de querer que el código siga sin mostrar un valor, usamos la sentencia **continue**"
   ]
  },
  {
   "cell_type": "code",
   "execution_count": 8,
   "metadata": {},
   "outputs": [
    {
     "name": "stdout",
     "output_type": "stream",
     "text": [
      "c vale 1\n",
      "c vale 2\n",
      "c vale 5\n",
      "c vale 6\n",
      "Se ha completado toda la iteración y c vale 6\n"
     ]
    }
   ],
   "source": [
    "c = 0\n",
    "while c <= 5:\n",
    "    c+=1\n",
    "    if c==3 or c==4:\n",
    "        continue\n",
    "    print(\"c vale\", c)\n",
    "else:\n",
    "    print(\"Se ha completado toda la iteración y c vale\", c)"
   ]
  },
  {
   "cell_type": "code",
   "execution_count": null,
   "metadata": {},
   "outputs": [],
   "source": [
    "print(\"Bienvenido al menú interactivo\")\n",
    "while(True):\n",
    "    print(\"\"\"¿Qué quieres hacer? Escribe una opción\n",
    "    1) Saludar\n",
    "    2) Sumar dos números\n",
    "    3) Salir \"\"\")\n",
    "    opcion=input()\n",
    "    if opcion== \"1\":\n",
    "        print(\"Hola, que tal?\")\n",
    "    elif opcion== \"2\":\n",
    "        n1=bool(input(\"Ingrese el primer número\"))\n",
    "        n2=bool(input(\"Ingrese el segundo número\"))\n",
    "        print(\"El resultado es:\", n1+n2)\n",
    "    elif opcion== \"3\" :\n",
    "        print(\"Saliendo...\")\n",
    "        break\n",
    "    else:\n",
    "        print(\"Comando no valido\")"
   ]
  },
  {
   "cell_type": "markdown",
   "metadata": {},
   "source": [
    "#### Sentencia  for"
   ]
  },
  {
   "cell_type": "markdown",
   "metadata": {},
   "source": [
    "Nos permite recorrer listas dinamicamente "
   ]
  },
  {
   "cell_type": "code",
   "execution_count": 1,
   "metadata": {},
   "outputs": [
    {
     "name": "stdout",
     "output_type": "stream",
     "text": [
      "1\n",
      "2\n",
      "3\n",
      "4\n",
      "5\n",
      "6\n",
      "7\n",
      "8\n",
      "9\n",
      "10\n"
     ]
    }
   ],
   "source": [
    "numeros=[1,2,3,4,5,6,7,8,9,10]\n",
    "for numero in numeros:\n",
    "    print(numero)"
   ]
  },
  {
   "cell_type": "markdown",
   "metadata": {},
   "source": [
    "Si nosotros queremos multiplicar los valores de una lista por un numero, podemos crear un bucle **for** para eso (Teniendo en cuenta que lo que modificaremos seria una copia  de la lista original debido a que las listas son objetos inmutables)"
   ]
  },
  {
   "cell_type": "code",
   "execution_count": 6,
   "metadata": {},
   "outputs": [
    {
     "data": {
      "text/plain": [
       "[10, 20, 30, 40, 50, 60, 70, 80, 90, 100]"
      ]
     },
     "execution_count": 6,
     "metadata": {},
     "output_type": "execute_result"
    }
   ],
   "source": [
    "indice= 0\n",
    "numeros=[1,2,3,4,5,6,7,8,9,10]\n",
    "for numero in numeros:\n",
    "    numeros[indice] *=10\n",
    "    indice+=1\n",
    "numeros"
   ]
  },
  {
   "cell_type": "markdown",
   "metadata": {},
   "source": [
    "Para generar secuencias usamos la función range(), en la cual podemos definir los siguientes parametros: range(start, stop, steps)"
   ]
  },
  {
   "cell_type": "code",
   "execution_count": 3,
   "metadata": {},
   "outputs": [
    {
     "name": "stdout",
     "output_type": "stream",
     "text": [
      "2\n",
      "1\n",
      "0\n"
     ]
    }
   ],
   "source": [
    "for x in range(2,-1,-1):\n",
    "    print(x)"
   ]
  },
  {
   "cell_type": "markdown",
   "metadata": {},
   "source": [
    "Podemos romper un for usando la sentencia **break** al igual que en while"
   ]
  },
  {
   "cell_type": "code",
   "execution_count": 7,
   "metadata": {},
   "outputs": [
    {
     "name": "stdout",
     "output_type": "stream",
     "text": [
      "t\n",
      "h\n"
     ]
    }
   ],
   "source": [
    "word=\"thud\"\n",
    "for letter in word:\n",
    "    if letter==\"u\":\n",
    "        break\n",
    "    print(letter)"
   ]
  }
 ],
 "metadata": {
  "kernelspec": {
   "display_name": "Python 3 (ipykernel)",
   "language": "python",
   "name": "python3"
  },
  "language_info": {
   "codemirror_mode": {
    "name": "ipython",
    "version": 3
   },
   "file_extension": ".py",
   "mimetype": "text/x-python",
   "name": "python",
   "nbconvert_exporter": "python",
   "pygments_lexer": "ipython3",
   "version": "3.11.5"
  }
 },
 "nbformat": 4,
 "nbformat_minor": 2
}
