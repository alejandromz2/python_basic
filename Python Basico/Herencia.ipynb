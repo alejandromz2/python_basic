{
 "cells": [
  {
   "cell_type": "markdown",
   "metadata": {},
   "source": [
    "# Herencia\n",
    "Capacidad de una clase de heredar atributos y métodos de otra, además de agregar nuevos o modificar los heredados. "
   ]
  },
  {
   "cell_type": "markdown",
   "metadata": {},
   "source": [
    "### Pasos para aplicar herencias\n",
    "1. Identificar las clases y las superclases\n",
    "2. Implementar el orden hereditario"
   ]
  },
  {
   "cell_type": "code",
   "execution_count": 1,
   "metadata": {},
   "outputs": [
    {
     "name": "stdout",
     "output_type": "stream",
     "text": [
      "Referencia\t2034\n",
      "Nombre\tVaso adornado\n",
      "PVP\t15\n",
      "Descripcion\tvaso de `porcelana adornado con arboles\n"
     ]
    }
   ],
   "source": [
    "class Producto:\n",
    "    def __init__(self,referencia,nombre,pvp,descripcion):\n",
    "        self.referencia = referencia\n",
    "        self.nombre = nombre\n",
    "        self.pvp = pvp\n",
    "        self.descripcion=descripcion\n",
    "    def __str__(self):\n",
    "        return \"\"\"\\\n",
    "Referencia\\t{}\n",
    "Nombre\\t{}\n",
    "PVP\\t{}\n",
    "Descripcion\\t{}\"\"\".format(self.referencia,self.nombre,self.pvp,self.descripcion)\n",
    "\n",
    "class Adorno(Producto):\n",
    "    pass\n",
    "\n",
    "ad=Adorno(2034,\"Vaso adornado\",15,\"vaso de `porcelana adornado con arboles\")\n",
    "print(ad)"
   ]
  },
  {
   "cell_type": "code",
   "execution_count": 2,
   "metadata": {},
   "outputs": [
    {
     "name": "stdout",
     "output_type": "stream",
     "text": [
      "Referencia\t2035\n",
      "Nombre\tBotella de Aceite de Oliva extra\n",
      "PVP\t5\n",
      "Descripcion\t250 ML\n",
      "PRODUCTOR\tLa Aceitera\n",
      "DISTRIBUIDOR\tDistribuciones SA\n"
     ]
    }
   ],
   "source": [
    "class Alimento(Producto):\n",
    "    productor=\"\"\n",
    "    distribuidor=\"\"\n",
    "    \n",
    "    def __str__(self):\n",
    "        return \"\"\"\\\n",
    "Referencia\\t{}\n",
    "Nombre\\t{}\n",
    "PVP\\t{}\n",
    "Descripcion\\t{}\n",
    "PRODUCTOR\\t{}\n",
    "DISTRIBUIDOR\\t{}\"\"\".format(self.referencia,self.nombre,self.pvp,self.descripcion,self.productor,self.distribuidor)\n",
    "\n",
    "al=Alimento(2035,\"Botella de Aceite de Oliva extra\",5,\"250 ML\")\n",
    "al.productor=\"La Aceitera\"\n",
    "al.distribuidor=\"Distribuciones SA\"\n",
    "\n",
    "print(al)"
   ]
  },
  {
   "cell_type": "code",
   "execution_count": 3,
   "metadata": {},
   "outputs": [
    {
     "name": "stdout",
     "output_type": "stream",
     "text": [
      "Referencia\t2036\n",
      "Nombre\tCocina mediterranea\n",
      "PVP\t9\n",
      "Descripcion\tRecetas sanas y buenas\n",
      "ISBN\t0-123456-78-9\n",
      "AUTOR\tDoña Juana\n"
     ]
    }
   ],
   "source": [
    "class Libro(Producto):\n",
    "    isbn=\"\"\n",
    "    autor=\"\"\n",
    "    \n",
    "    def __str__(self):\n",
    "        return \"\"\"\\\n",
    "Referencia\\t{}\n",
    "Nombre\\t{}\n",
    "PVP\\t{}\n",
    "Descripcion\\t{}\n",
    "ISBN\\t{}\n",
    "AUTOR\\t{}\"\"\".format(self.referencia,self.nombre,self.pvp,self.descripcion,self.isbn,self.autor)\n",
    "\n",
    "li=Libro(2036,\"Cocina mediterranea\",9,\"Recetas sanas y buenas\")\n",
    "li.isbn=\"0-123456-78-9\"\n",
    "li.autor=\"Doña Juana\"\n",
    "print(li)"
   ]
  },
  {
   "cell_type": "markdown",
   "metadata": {},
   "source": [
    "### Clases Heredadas y Polimorfismo"
   ]
  },
  {
   "cell_type": "code",
   "execution_count": 4,
   "metadata": {},
   "outputs": [
    {
     "data": {
      "text/plain": [
       "[<__main__.Adorno at 0x1fb98923dd8>,\n",
       " <__main__.Alimento at 0x1fb98923e10>,\n",
       " <__main__.Libro at 0x1fb98923f98>]"
      ]
     },
     "execution_count": 4,
     "metadata": {},
     "output_type": "execute_result"
    }
   ],
   "source": [
    "productos = [ad, al]\n",
    "productos.append(li)\n",
    "productos"
   ]
  },
  {
   "cell_type": "code",
   "execution_count": 5,
   "metadata": {},
   "outputs": [
    {
     "name": "stdout",
     "output_type": "stream",
     "text": [
      "Referencia\t2034\n",
      "Nombre\tVaso adornado\n",
      "PVP\t15\n",
      "Descripcion\tvaso de `porcelana adornado con arboles \n",
      "\n",
      "Referencia\t2035\n",
      "Nombre\tBotella de Aceite de Oliva extra\n",
      "PVP\t5\n",
      "Descripcion\t250 ML\n",
      "PRODUCTOR\tLa Aceitera\n",
      "DISTRIBUIDOR\tDistribuciones SA \n",
      "\n",
      "Referencia\t2036\n",
      "Nombre\tCocina mediterranea\n",
      "PVP\t9\n",
      "Descripcion\tRecetas sanas y buenas\n",
      "ISBN\t0-123456-78-9\n",
      "AUTOR\tDoña Juana \n",
      "\n"
     ]
    }
   ],
   "source": [
    "for p in productos:\n",
    "    print(p,\"\\n\")"
   ]
  },
  {
   "cell_type": "code",
   "execution_count": 6,
   "metadata": {},
   "outputs": [
    {
     "name": "stdout",
     "output_type": "stream",
     "text": [
      "2034 Vaso adornado\n",
      "2035 Botella de Aceite de Oliva extra\n",
      "2036 Cocina mediterranea\n"
     ]
    }
   ],
   "source": [
    "for p in productos:\n",
    "    print(p.referencia,p.nombre)"
   ]
  },
  {
   "cell_type": "code",
   "execution_count": 7,
   "metadata": {},
   "outputs": [
    {
     "name": "stdout",
     "output_type": "stream",
     "text": [
      "2034 Vaso adornado\n",
      "2035 Botella de Aceite de Oliva extra La Aceitera\n",
      "2036 Cocina mediterranea 0-123456-78-9\n"
     ]
    }
   ],
   "source": [
    "#isinstance nos permite comprobar si un objeto pertenece a un tipo especifico\n",
    "for p in productos:\n",
    "    if(isinstance(p,Adorno)):\n",
    "        print(p.referencia,p.nombre)\n",
    "    elif(isinstance(p,Alimento)):\n",
    "        print(p.referencia,p.nombre,p.productor)\n",
    "    elif(isinstance(p,Libro)):\n",
    "        print(p.referencia,p.nombre,p.isbn)\n",
    "        "
   ]
  },
  {
   "cell_type": "markdown",
   "metadata": {},
   "source": [
    "**Polimorfia:** propiedad de la herencia en la que los objetos de distintas subclases pueden responder una misma accion. En el metodo rebajar_producto() estamos dando por hecho que todos los objetos que recibira la clase pueden acceder al atributo pvp. En python todas las clases son a su vez subclases de la superclase Object, es decir, son polimorficas por defecto"
   ]
  },
  {
   "cell_type": "code",
   "execution_count": 8,
   "metadata": {},
   "outputs": [
    {
     "name": "stdout",
     "output_type": "stream",
     "text": [
      "Referencia\t2035\n",
      "Nombre\tBotella de Aceite de Oliva extra\n",
      "PVP\t4.5\n",
      "Descripcion\t250 ML\n",
      "PRODUCTOR\tLa Aceitera\n",
      "DISTRIBUIDOR\tDistribuciones SA\n"
     ]
    }
   ],
   "source": [
    "#los objetos se pasan por referencia, si los alteras alteras el valor del objeto\n",
    "#principal, esto nos quiere decir que no podemos hacer una copia de un producto\n",
    "#igualando variables\n",
    "def rebajar_producto(p, rebaja):\n",
    "    \"\"\"Devuelve un producto con una rebaja en porcentaje de su precio\"\"\"\n",
    "    p.pvp=p.pvp-(p.pvp/100*rebaja)\n",
    "    return p\n",
    "\n",
    "al_rebajado=rebajar_producto(al,10)\n",
    "print(al_rebajado)"
   ]
  },
  {
   "cell_type": "code",
   "execution_count": 9,
   "metadata": {},
   "outputs": [
    {
     "name": "stdout",
     "output_type": "stream",
     "text": [
      "Referencia\t2035\n",
      "Nombre\tBotella de Aceite de Oliva extra\n",
      "PVP\t4.5\n",
      "Descripcion\t250 ML\n",
      "PRODUCTOR\tLa Aceitera\n",
      "DISTRIBUIDOR\tDistribuciones SA\n"
     ]
    }
   ],
   "source": [
    "print(al)"
   ]
  },
  {
   "cell_type": "code",
   "execution_count": 19,
   "metadata": {},
   "outputs": [
    {
     "name": "stdout",
     "output_type": "stream",
     "text": [
      "Referencia\t2034\n",
      "Nombre\tVaso adornado\n",
      "PVP\t16\n",
      "Descripcion\tvaso de `porcelana adornado con arboles \n",
      "\n",
      "\n",
      " Referencia\t2034\n",
      "Nombre\tVaso adornado\n",
      "PVP\t15\n",
      "Descripcion\tvaso de `porcelana adornado con arboles\n"
     ]
    }
   ],
   "source": [
    "#Para copiar un objeto, tenemos que usar un modulo externo llamado copy\n",
    "import copy\n",
    "copia_ad=copy.copy(ad)\n",
    "copia_ad.pvp=16\n",
    "print(copia_ad,\"\\n\\n\\n\", ad)"
   ]
  },
  {
   "cell_type": "markdown",
   "metadata": {},
   "source": [
    "### Herencia multiple\n",
    "Es la posibildad de que una subclase herede atributos de distintas superclases a la vez, el problema con esto se daria cuando tenemos atributos comunes en las superclases (metodos o atributos iguales)"
   ]
  },
  {
   "cell_type": "code",
   "execution_count": 22,
   "metadata": {},
   "outputs": [
    {
     "name": "stdout",
     "output_type": "stream",
     "text": [
      "Soy de clase A\n"
     ]
    }
   ],
   "source": [
    "class A: \n",
    "    def __init__(self):\n",
    "        print(\"Soy de clase A\")\n",
    "    def a(self):\n",
    "        print(\"Este metodo lo heredo de A\")\n",
    "        \n",
    "class B: \n",
    "    def __init__(self):\n",
    "        print(\"Soy de clase A\")\n",
    "    def b(self):\n",
    "        print(\"Este metodo lo heredo de B\")\n",
    "        \n",
    "class C(A,B):\n",
    "    def c(self):\n",
    "        print(\"Este metodo es de C\")\n",
    "\n",
    "#Si tenemos 2 clases con el mismo atributo, hereda la clase que esta a la izquierda\n",
    "#En este caso le da prioridad a la clase A\n",
    "\n",
    "c=C()\n",
    "        "
   ]
  },
  {
   "cell_type": "code",
   "execution_count": 23,
   "metadata": {},
   "outputs": [
    {
     "name": "stdout",
     "output_type": "stream",
     "text": [
      "Este metodo lo heredo de A\n"
     ]
    }
   ],
   "source": [
    "c.a()"
   ]
  },
  {
   "cell_type": "code",
   "execution_count": 25,
   "metadata": {},
   "outputs": [
    {
     "name": "stdout",
     "output_type": "stream",
     "text": [
      "Este metodo lo heredo de B\n"
     ]
    }
   ],
   "source": [
    "c.b()"
   ]
  },
  {
   "cell_type": "code",
   "execution_count": 24,
   "metadata": {},
   "outputs": [
    {
     "name": "stdout",
     "output_type": "stream",
     "text": [
      "Este metodo es de C\n"
     ]
    }
   ],
   "source": [
    "c.c()"
   ]
  }
 ],
 "metadata": {
  "kernelspec": {
   "display_name": "Python 3",
   "language": "python",
   "name": "python3"
  },
  "language_info": {
   "codemirror_mode": {
    "name": "ipython",
    "version": 3
   },
   "file_extension": ".py",
   "mimetype": "text/x-python",
   "name": "python",
   "nbconvert_exporter": "python",
   "pygments_lexer": "ipython3",
   "version": "3.6.6"
  }
 },
 "nbformat": 4,
 "nbformat_minor": 2
}
