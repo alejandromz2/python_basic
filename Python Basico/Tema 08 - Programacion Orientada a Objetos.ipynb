{
 "cells": [
  {
   "cell_type": "code",
   "execution_count": 143,
   "metadata": {},
   "outputs": [],
   "source": [
    "import math\n",
    "\n",
    "class Punto:\n",
    "    v=[]\n",
    "    def __init__(self, x=0, y=0):\n",
    "            self.x=x\n",
    "            self.y=y\n",
    "            if (x==None and y==None):\n",
    "                x and y ==0\n",
    "    def __str__(self):\n",
    "        return \"({},{})\".format(self.x,self.y)\n",
    "    def cuadrante(self):\n",
    "        if (self.x > 0 and self.y>0):\n",
    "            print(\"Primer cuadrante {}\".format(self))\n",
    "        elif (self.x<0 and self.y>0):\n",
    "            print(\"Segundo cuadrante {}\".format(self))\n",
    "        elif(self.x<0 and self.y<0):\n",
    "            print(\"Tercer cuadrante {}\".format(self))\n",
    "        elif(self.x>0 and self.y<0):\n",
    "             print(\"Cuarto cuadrante {}\".format(self))\n",
    "        else:\n",
    "            print(\"Origen de coordenadas {}\".format(self))\n",
    "    \n",
    "    def vector(self,p):\n",
    "        print(\"El vector enter {} y {} es ({},{})\".format(self,p,p.x-self.x,p.y-self.y))\n",
    "    def distancia(self,p):\n",
    "        d = math.sqrt((p.x-self.x)**2 +(p.y-self.y)**2)\n",
    "        print(\"La distancia entre los puntos {} y {} es:{}\".format(self,p,d))\n",
    "\n",
    "        \n",
    "class Rectangulo:\n",
    "    \n",
    "    def __init__(self,pInicial=Punto(),pFinal=Punto()):\n",
    "        self.pInicial=pInicial\n",
    "        self.pFinal=pFinal\n",
    "    def base(self):\n",
    "        self.base=self.pFinal.x-self.pInicial.x\n",
    "        abs(self.base)\n",
    "        print(\"La base del rectangulo es {}\".format(self.base))\n",
    "        \n",
    "    def altura(self):\n",
    "        self.altura= abs(self.pFinal.y-self.pInicial.y)\n",
    "        print(\"La altura del rectangulo es {}\".format(self.altura))\n",
    "    def area(self):\n",
    "        self.base=abs(self.pFinal.x-self.pInicial.x)\n",
    "        self.altura= abs(self.pFinal.y-self.pInicial.y)\n",
    "        self.area=self.altura*self.base\n",
    "        print(\"La area del rectangulo es {}\".format(self.area))\n",
    "\n",
    "#Probamos el código        \n",
    "A=Punto(2,3)\n",
    "B=Punto(5,5)\n",
    "C=Punto(-3,-1)\n",
    "D=Punto(0,0)\n",
    "\n"
   ]
  },
  {
   "cell_type": "code",
   "execution_count": 141,
   "metadata": {},
   "outputs": [
    {
     "name": "stdout",
     "output_type": "stream",
     "text": [
      "Primer cuadrante (2,3)\n",
      "Tercer cuadrante (-3,-1)\n",
      "Origen de coordenadas (0,0)\n",
      "El vector enter (2,3) y (5,5) es (3,2)\n",
      "El vector enter (5,5) y (2,3) es (-3,-2)\n",
      "La distancia entre los puntos (2,3) y (5,5) es:3.605551275463989\n",
      "La distancia entre los puntos (5,5) y (2,3) es:3.605551275463989\n",
      "La distancia entre los puntos (2,3) y (0,0) es:3.605551275463989\n",
      "La distancia entre los puntos (5,5) y (0,0) es:7.0710678118654755\n",
      "La distancia entre los puntos (-3,-1) y (0,0) es:3.1622776601683795\n"
     ]
    }
   ],
   "source": [
    "A.cuadrante()\n",
    "C.cuadrante()\n",
    "D.cuadrante()\n",
    "\n",
    "A.vector(B)\n",
    "B.vector(A)\n",
    "\n",
    "A.distancia(B)\n",
    "B.distancia(A)\n",
    "\n",
    "A.distancia(D)\n",
    "B.distancia(D)\n",
    "C.distancia(D)\n"
   ]
  },
  {
   "cell_type": "code",
   "execution_count": 146,
   "metadata": {},
   "outputs": [
    {
     "name": "stdout",
     "output_type": "stream",
     "text": [
      "La base del rectangulo es 3\n",
      "La altura del rectangulo es 2\n",
      "La area del rectangulo es 6\n"
     ]
    }
   ],
   "source": [
    "R=Rectangulo(A,B)\n",
    "R.base()\n",
    "R.altura()\n",
    "R.area()"
   ]
  }
 ],
 "metadata": {
  "kernelspec": {
   "display_name": "Python 3",
   "language": "python",
   "name": "python3"
  },
  "language_info": {
   "codemirror_mode": {
    "name": "ipython",
    "version": 3
   },
   "file_extension": ".py",
   "mimetype": "text/x-python",
   "name": "python",
   "nbconvert_exporter": "python",
   "pygments_lexer": "ipython3",
   "version": "3.6.6"
  }
 },
 "nbformat": 4,
 "nbformat_minor": 2
}
