{
 "cells": [
  {
   "cell_type": "code",
   "execution_count": 22,
   "metadata": {},
   "outputs": [
    {
     "name": "stdout",
     "output_type": "stream",
     "text": [
      "Color: Rojo, Ruedas: 4, Velocidad: 250, Cilindraje: 1200\n"
     ]
    }
   ],
   "source": [
    "#Con Herencia\n",
    "class Vehiculo():\n",
    "    def __init__(self,color,ruedas):\n",
    "        self.color=color\n",
    "        self.ruedas=ruedas\n",
    "    def __str__(self):\n",
    "        return \"El vehiculo es de color {} y tiene {} ruedas\".format(self.color,self.ruedas)\n",
    "\n",
    "class Coche(Vehiculo):\n",
    "    velocidad=\"\"\n",
    "    cilindraje=\"\"\n",
    "    def __str__(self):\n",
    "        return \"Color: {}, Ruedas: {}, Velocidad: {}, Cilindraje: {}\".format(self.color,self.ruedas,self.velocidad,self.cilindraje)\n",
    "    \n",
    "    \n",
    "lambo=Coche(\"Rojo\",4)\n",
    "lambo.velocidad=250\n",
    "lambo.cilindraje=1200\n",
    "print(lambo)\n",
    "    "
   ]
  },
  {
   "cell_type": "code",
   "execution_count": 25,
   "metadata": {},
   "outputs": [
    {
     "name": "stdout",
     "output_type": "stream",
     "text": [
      "Color: azul, Ruedas: 150, Velocidad: 4, Cilindraje: 1200\n"
     ]
    }
   ],
   "source": [
    "class Vehiculo():\n",
    "    def __init__(self,color,ruedas):\n",
    "        self.color=color\n",
    "        self.ruedas=ruedas\n",
    "    def __str__(self):\n",
    "        return \"El vehiculo es de color {} y tiene {} ruedas\".format(self.color,self.ruedas)\n",
    "class Coche(Vehiculo):\n",
    "    def __init__(self,color,ruedas,velocidad,cilindraje):\n",
    "        self.color=color\n",
    "        self.ruedas=ruedas   \n",
    "        self.velocidad=velocidad\n",
    "        self.cilindraje=cilindraje\n",
    "        \n",
    "    def __str__(self):\n",
    "        return \"Color: {}, Ruedas: {}, Velocidad: {}, Cilindraje: {}\".format(self.color,self.ruedas,self.velocidad,self.cilindraje)\n",
    "    \n",
    "c=Coche(\"azul\",150,4,1200)\n",
    "    \n",
    "print(c)\n",
    "\n",
    "    \n",
    "    \n",
    "    "
   ]
  },
  {
   "cell_type": "code",
   "execution_count": 31,
   "metadata": {},
   "outputs": [
    {
     "name": "stdout",
     "output_type": "stream",
     "text": [
      "Color: azul, Ruedas: 150 Velocidad: 4, Cilindraje: 1200\n"
     ]
    }
   ],
   "source": [
    "class Vehiculo():\n",
    "    def __init__(self,color,ruedas):\n",
    "        self.color=color\n",
    "        self.ruedas=ruedas\n",
    "        \n",
    "    def __str__(self):\n",
    "        return \"Color: {}, Ruedas: {}\".format(self.color,self.ruedas)\n",
    "\n",
    "class Coche(Vehiculo):\n",
    "    def __init__(self,color,ruedas,velocidad,cilindraje):\n",
    "        Vehiculo.__init__(self,color,ruedas)\n",
    "        self.velocidad=velocidad\n",
    "        self.cilindraje=cilindraje\n",
    "        \n",
    "    def __str__(self):\n",
    "        return Vehiculo.__str__(self)+\" Velocidad: {}, Cilindraje: {}\".format(self.velocidad,self.cilindraje)\n",
    "    \n",
    "c=Coche(\"azul\",150,4,1200)\n",
    "    \n",
    "print(c)\n"
   ]
  },
  {
   "cell_type": "markdown",
   "metadata": {},
   "source": [
    "Python nos permite utilizar un acceso directo mucho mas comodo llamado super(), esto nos permite llamar comodamente los metodos o atributos de la superclase sin necesidad de especificar el self"
   ]
  },
  {
   "cell_type": "code",
   "execution_count": 32,
   "metadata": {},
   "outputs": [
    {
     "name": "stdout",
     "output_type": "stream",
     "text": [
      "Color: azul, Ruedas: 150 Velocidad: 4, Cilindraje: 1200\n"
     ]
    }
   ],
   "source": [
    "class Vehiculo():\n",
    "    def __init__(self,color,ruedas):\n",
    "        self.color=color\n",
    "        self.ruedas=ruedas\n",
    "        \n",
    "    def __str__(self):\n",
    "        return \"Color: {}, Ruedas: {}\".format(self.color,self.ruedas)\n",
    "\n",
    "class Coche(Vehiculo):\n",
    "    def __init__(self,color,ruedas,velocidad,cilindraje):\n",
    "        super().__init__(color,ruedas)\n",
    "        self.velocidad=velocidad\n",
    "        self.cilindraje=cilindraje\n",
    "        \n",
    "    def __str__(self):\n",
    "        return super().__str__()+\" Velocidad: {}, Cilindraje: {}\".format(self.velocidad,self.cilindraje)\n",
    "    \n",
    "c=Coche(\"azul\",150,4,1200)\n",
    "    \n",
    "print(c)\n"
   ]
  },
  {
   "cell_type": "markdown",
   "metadata": {},
   "source": [
    "### PROBLEMA"
   ]
  },
  {
   "cell_type": "code",
   "execution_count": 14,
   "metadata": {},
   "outputs": [
    {
     "name": "stdout",
     "output_type": "stream",
     "text": [
      "Se ha encontrado 2 vehiculos con 4 ruedas\n",
      "===========================================\n",
      "Coche Color:Rojo, Ruedas:4, Velocidad:200, Cilindrada:1200\n",
      "Camioneta Color:Negra, Ruedas:4, Velocidad:150, Cilindrada:1000 Carga:500\n",
      "Bicicleta Color:Ploma, Ruedas:2, Tipo:Urbana, \n",
      "Motocicleta Color:Negra, Ruedas:2, Tipo:Urbana,  ,Velocidad:230, Cilindrada:900\n"
     ]
    }
   ],
   "source": [
    "class Vehiculo():\n",
    "    def __init__(self,color,ruedas):\n",
    "        self.color=color\n",
    "        self.ruedas=ruedas\n",
    "    def __str__(self):\n",
    "        return \"Color:{}, Ruedas:{},\".format(self.color, self.ruedas)\n",
    "    \n",
    "class Coche(Vehiculo):\n",
    "    def __init__(self,color,ruedas,velocidad,cilindrada):\n",
    "        super().__init__(color,ruedas)\n",
    "        self.velocidad=velocidad\n",
    "        self.cilindrada=cilindrada\n",
    "    def __str__(self):\n",
    "        return super().__str__() + \" Velocidad:{}, Cilindrada:{}\".format(self.velocidad,self.cilindrada)\n",
    "    \n",
    "          \n",
    "    \n",
    "class Bicicleta(Vehiculo):\n",
    "    def __init__(self,color,ruedas,tipo):\n",
    "        super().__init__(color,ruedas)\n",
    "        self.tipo=tipo\n",
    "    def __str__(self):\n",
    "        return super().__str__() + \" Tipo:{}, \".format(self.tipo)\n",
    "    \n",
    "    \n",
    "class Camioneta(Coche):\n",
    "    def __init__(self,color,ruedas,velocidad,cilindrada,carga):\n",
    "        super().__init__(color,ruedas,velocidad,cilindrada)\n",
    "        self.carga=carga\n",
    "    def __str__(self):\n",
    "        return super().__str__() + \" Carga:{}\".format(self.carga)\n",
    "    \n",
    "class Motocicleta(Bicicleta):\n",
    "    def __init__(self,color,ruedas,tipo,velocidad,cilindrada):\n",
    "        super().__init__(color,ruedas,tipo)\n",
    "        self.velocidad=velocidad\n",
    "        self.cilindrada=cilindrada\n",
    "    def __str__(self):\n",
    "        return super().__str__() + \" ,Velocidad:{}, Cilindrada:{}\".format(self.velocidad,self.cilindrada)\n",
    "    \n",
    "\n",
    "\n",
    "\n",
    "coche=Coche(\"Rojo\",4,200,1200)\n",
    "camion=Camioneta(\"Negra\",4,150,1000,500)\n",
    "bici=Bicicleta(\"Ploma\",2,\"Urbana\")\n",
    "moto=Motocicleta(\"Negra\",2,\"Urbana\",230,900)\n",
    "    \n",
    "vehiculos=[coche,camion,bici,moto]\n",
    "\n",
    "\n",
    "# .__name__** es un metodo especial que nos ayuda a recuperar el nombre de la \n",
    "# clase de un objeto\n",
    "\n",
    "def catalogar(lista,ruedas=None):\n",
    "    if ruedas != None:\n",
    "        contador=0\n",
    "        for v in vehiculos:\n",
    "            if v.ruedas==ruedas:\n",
    "                contador +=1\n",
    "        print(\"Se ha encontrado {} vehiculos con {} ruedas\".format(contador,ruedas))\n",
    "        print(\"===========================================\")\n",
    "    for v in lista:\n",
    "        if ruedas == None:\n",
    "            print(\"{} {}\".format(type(v).__name__,v))\n",
    "        else:\n",
    "            print(\"{} {}\".format(type(v).__name__,v))\n",
    "                \n",
    "   \n",
    "\n",
    "catalogar(vehiculos, 4)\n",
    "\n",
    "\n",
    "   \n",
    " "
   ]
  },
  {
   "cell_type": "code",
   "execution_count": null,
   "metadata": {},
   "outputs": [],
   "source": []
  }
 ],
 "metadata": {
  "kernelspec": {
   "display_name": "Python 3",
   "language": "python",
   "name": "python3"
  },
  "language_info": {
   "codemirror_mode": {
    "name": "ipython",
    "version": 3
   },
   "file_extension": ".py",
   "mimetype": "text/x-python",
   "name": "python",
   "nbconvert_exporter": "python",
   "pygments_lexer": "ipython3",
   "version": "3.6.6"
  }
 },
 "nbformat": 4,
 "nbformat_minor": 2
}
