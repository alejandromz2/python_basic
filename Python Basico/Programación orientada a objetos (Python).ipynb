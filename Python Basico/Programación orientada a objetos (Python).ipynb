{
 "cells": [
  {
   "cell_type": "markdown",
   "metadata": {},
   "source": [
    "### Programación orientada a objetos "
   ]
  },
  {
   "cell_type": "markdown",
   "metadata": {},
   "source": [
    "Paradigma de solución de problemas que identifica entidades de la realidad y las traslada a clases y objetos. Al crear entidades con nombres propios, el manejo de los datos y variables internas es mucho más organico. Haciendo un paralelismo, las clases equivaldrian a los moldes de las galletas y los objetos serian las galletas"
   ]
  },
  {
   "cell_type": "markdown",
   "metadata": {},
   "source": [
    "**Clases y objetos**"
   ]
  },
  {
   "cell_type": "code",
   "execution_count": 3,
   "metadata": {},
   "outputs": [],
   "source": [
    "#La clase es como un molde para crear objetos\n",
    "class Galleta:\n",
    "    pass"
   ]
  },
  {
   "cell_type": "markdown",
   "metadata": {},
   "source": [
    "**Recordar:** Una instancia existe en la memoria del ordenador pero solo cuando el programa esta en marcha"
   ]
  },
  {
   "cell_type": "code",
   "execution_count": 4,
   "metadata": {},
   "outputs": [],
   "source": [
    "una_galleta = Galleta()\n",
    "otra_galleta = Galleta()"
   ]
  },
  {
   "cell_type": "markdown",
   "metadata": {},
   "source": [
    "Podemos usar la clase de un objeto o un valor usando la función **type()**"
   ]
  },
  {
   "cell_type": "code",
   "execution_count": 9,
   "metadata": {},
   "outputs": [
    {
     "data": {
      "text/plain": [
       "int"
      ]
     },
     "execution_count": 9,
     "metadata": {},
     "output_type": "execute_result"
    }
   ],
   "source": [
    "type(una_galleta)\n"
   ]
  },
  {
   "cell_type": "markdown",
   "metadata": {},
   "source": [
    "Los objetos tambien pueden tener sus propios atributos, si este no existe se creara automaticamente en la instancia del objeto, para referirnos a un atributo usamos objeto.atributo"
   ]
  },
  {
   "cell_type": "code",
   "execution_count": 6,
   "metadata": {},
   "outputs": [],
   "source": [
    "una_galleta.sabor=\"Salado\"\n",
    "una_galleta.color=\"Marrón\""
   ]
  },
  {
   "cell_type": "markdown",
   "metadata": {},
   "source": [
    "Podemos ver los atributos de un objeto con un print y objeto.atributo"
   ]
  },
  {
   "cell_type": "code",
   "execution_count": 11,
   "metadata": {},
   "outputs": [
    {
     "name": "stdout",
     "output_type": "stream",
     "text": [
      "Salado\n"
     ]
    }
   ],
   "source": [
    "print(una_galleta.sabor)"
   ]
  },
  {
   "cell_type": "code",
   "execution_count": null,
   "metadata": {},
   "outputs": [],
   "source": [
    "Podemos definir una variable interna en una clase y indicarle si lo posee o no"
   ]
  },
  {
   "cell_type": "code",
   "execution_count": 21,
   "metadata": {},
   "outputs": [
    {
     "data": {
      "text/plain": [
       "False"
      ]
     },
     "execution_count": 21,
     "metadata": {},
     "output_type": "execute_result"
    }
   ],
   "source": [
    "class Galleta:\n",
    "    chocolate = False\n",
    "    \n",
    "g = Galleta()\n",
    "g.chocolate"
   ]
  },
  {
   "cell_type": "markdown",
   "metadata": {},
   "source": [
    "#### Métodos Init y Self"
   ]
  },
  {
   "cell_type": "markdown",
   "metadata": {},
   "source": [
    "**Recordar:** Un método es una función interna de una clase"
   ]
  },
  {
   "cell_type": "code",
   "execution_count": 26,
   "metadata": {},
   "outputs": [
    {
     "name": "stdout",
     "output_type": "stream",
     "text": [
      "Se acaba de crear una galleta.\n"
     ]
    }
   ],
   "source": [
    "class Galleta():\n",
    "    chocolate = False\n",
    "    def __init__(self): #self sirve para hacer referencia al propio objeto\n",
    "        print(\"Se acaba de crear una galleta.\")\n",
    "\n",
    "g = Galleta()"
   ]
  },
  {
   "cell_type": "markdown",
   "metadata": {},
   "source": [
    "Cade vez que queramos hacer referencia al atributo interno de un  clase, tenemos que escribirlo tal que self.nombre_del_atributo, de esta forma podemos cambiar el valor del mismo"
   ]
  },
  {
   "cell_type": "code",
   "execution_count": 27,
   "metadata": {},
   "outputs": [
    {
     "name": "stdout",
     "output_type": "stream",
     "text": [
      "Se acaba de crear una galleta.\n",
      "Soy una galleta sin chocolate :()\n",
      "Soy una galleta chocolateada :)\n"
     ]
    }
   ],
   "source": [
    "class Galleta():\n",
    "    chocolate = False\n",
    "    def __init__(self): #self sirve para hacer referencia al propio objeto\n",
    "        print(\"Se acaba de crear una galleta.\")\n",
    "    def chocolatear(self):\n",
    "        self.chocolate = True\n",
    "    def tiene_chocolate(self):\n",
    "        if (self.chocolate):\n",
    "            print(\"Soy una galleta chocolateada :)\")\n",
    "        else: \n",
    "            print(\"Soy una galleta sin chocolate :()\")\n",
    "\n",
    "g = Galleta()\n",
    "g.tiene_chocolate()\n",
    "g.chocolatear()\n",
    "g.tiene_chocolate()"
   ]
  },
  {
   "cell_type": "markdown",
   "metadata": {},
   "source": [
    "Nosotros podemos pasarle ciertos parametros a __init__()"
   ]
  },
  {
   "cell_type": "code",
   "execution_count": 58,
   "metadata": {},
   "outputs": [
    {
     "name": "stdout",
     "output_type": "stream",
     "text": [
      "Se acaba de crear una galleta salada y cuadrada\n"
     ]
    }
   ],
   "source": [
    "class Galleta():\n",
    "    chocolate = False\n",
    "    def __init__(self, sabor, forma): #self sirve para hacer referencia al propio objeto\n",
    "        self.sabor=sabor\n",
    "        self.forma=forma\n",
    "        print(\"Se acaba de crear una galleta {} y {}\".format(sabor,forma))\n",
    "    def chocolatear(self):\n",
    "        self.chocolate = True\n",
    "    def tiene_chocolate(self):\n",
    "        if (self.chocolate):\n",
    "            print(\"Soy una galleta chocolateada :)\")\n",
    "        else: \n",
    "            print(\"Soy una galleta sin chocolate :()\")\n",
    "\n",
    "g = Galleta(\"salada\",\"cuadrada\")\n",
    "# Pero si solo colocasemos g=Galleta(), tendriamos una error ya que no estamos\n",
    "# definiendo los atributos que la clase necesita, para esto inicializamos \n",
    "# los atributos con None\n",
    "\n",
    "class Galleta():\n",
    "    chocolate = False\n",
    "    def __init__(self, sabor=None, forma=None): #self sirve para hacer referencia al propio objeto\n",
    "        self.sabor=sabor\n",
    "        self.forma=forma\n",
    "        if self.sabor is not None and self.forma is not None:\n",
    "            print(\"Se acaba de crear una galleta {} y {}\".format(sabor,forma))\n",
    "    def chocolatear(self):\n",
    "        self.chocolate = True\n",
    "    def tiene_chocolate(self):\n",
    "        if (self.chocolate):\n",
    "            print(\"Soy una galleta chocolateada :)\")\n",
    "        else: \n",
    "            print(\"Soy una galleta sin chocolate :()\")\n",
    "\n",
    "g = Galleta()\n"
   ]
  },
  {
   "cell_type": "markdown",
   "metadata": {},
   "source": [
    "#### Métodos especiales"
   ]
  },
  {
   "cell_type": "code",
   "execution_count": 7,
   "metadata": {},
   "outputs": [
    {
     "name": "stdout",
     "output_type": "stream",
     "text": [
      "Se ha creado una pelicula El Padrino\n",
      "se esta borrando la pelicula El Padrino\n",
      "se esta borrando la pelicula El Padrino\n"
     ]
    }
   ],
   "source": [
    "class Pelicula:\n",
    "    #constructor de clase\n",
    "    def __init__(self, titulo, duracion, lanzamiento):\n",
    "        self.titulo = titulo\n",
    "        self.duracion = duracion\n",
    "        self.lanzamiento = lanzamiento\n",
    "        print(\"Se ha creado una pelicula\", self.titulo)\n",
    "    #Destructor de clase\n",
    "    def __del__(self):\n",
    "        print(\"se esta borrando la pelicula\", self.titulo)\n",
    "        \n",
    "p=Pelicula(\"El Padrino\",175,1972)\n",
    "del(p)\n"
   ]
  },
  {
   "cell_type": "markdown",
   "metadata": {},
   "source": [
    "**Recordar:** Cuando finaliza el programa, se borran de la memoria todas las instancias de todos los objetos que existen"
   ]
  },
  {
   "cell_type": "code",
   "execution_count": 13,
   "metadata": {},
   "outputs": [
    {
     "name": "stdout",
     "output_type": "stream",
     "text": [
      "Se ha creado una pelicula El Padrino\n"
     ]
    },
    {
     "data": {
      "text/plain": [
       "175"
      ]
     },
     "execution_count": 13,
     "metadata": {},
     "output_type": "execute_result"
    }
   ],
   "source": [
    "#En este caso estamos redefiniendo funciones como metodos\n",
    "class Pelicula:\n",
    "    #constructor de clase\n",
    "    def __init__(self, titulo, duracion, lanzamiento):\n",
    "        self.titulo = titulo\n",
    "        self.duracion = duracion\n",
    "        self.lanzamiento = lanzamiento\n",
    "        print(\"Se ha creado una pelicula\", self.titulo)\n",
    "    #Destructor de clase\n",
    "    def __del__(self):\n",
    "        print(\"se esta borrando la pelicula\", self.titulo)\n",
    "    #Redefinimos el metodo string\n",
    "    def __str__(self):\n",
    "        return \"{} lanzada en {} con una duración de {} minutos\".format(self.titulo, self.lanzamiento, self.duracion)\n",
    "    def __len__(self):\n",
    "        return self.duracion\n",
    "\n",
    "\n",
    "p= Pelicula(\"El Padrino\",175,1972)   \n",
    "\n",
    "#Los métodos no se ejecutan con un punto despues del nombre del objeto, sino que\n",
    "#se ejecutan automaticamente cuando otras funciones externas lo toman como un\n",
    "#parametro"
   ]
  },
  {
   "cell_type": "code",
   "execution_count": 15,
   "metadata": {},
   "outputs": [
    {
     "data": {
      "text/plain": [
       "'El Padrino lanzada en 1972 con una duración de 175 minutos'"
      ]
     },
     "execution_count": 15,
     "metadata": {},
     "output_type": "execute_result"
    }
   ],
   "source": [
    "#Para mostrar informacion sobre un objeto a partir de crear un método __str__\n",
    "str(p)    "
   ]
  },
  {
   "cell_type": "code",
   "execution_count": 14,
   "metadata": {},
   "outputs": [
    {
     "data": {
      "text/plain": [
       "175"
      ]
     },
     "execution_count": 14,
     "metadata": {},
     "output_type": "execute_result"
    }
   ],
   "source": [
    "#Nos muestra la duración de la pelicula\n",
    "len(p)"
   ]
  },
  {
   "cell_type": "markdown",
   "metadata": {},
   "source": [
    "#### Objetos dentro de objetos"
   ]
  },
  {
   "cell_type": "code",
   "execution_count": 20,
   "metadata": {},
   "outputs": [],
   "source": [
    "class Pelicula:\n",
    "    #constructor de clase\n",
    "    def __init__(self, titulo, duracion, lanzamiento):\n",
    "        self.titulo = titulo\n",
    "        self.duracion = duracion\n",
    "        self.lanzamiento = lanzamiento\n",
    "        print(\"Se ha creado una pelicula\", self.titulo)\n",
    "    def __str__(self):\n",
    "        return '{} ({})'.format(self.titulo, self.lanzamiento)\n",
    "    "
   ]
  },
  {
   "cell_type": "code",
   "execution_count": 42,
   "metadata": {},
   "outputs": [
    {
     "name": "stdout",
     "output_type": "stream",
     "text": [
      "Se ha creado una pelicula El padrino\n",
      "El padrino (1972)\n",
      "Se ha creado una pelicula Iron Man\n",
      "El padrino (1972)\n",
      "Iron Man (2001)\n"
     ]
    }
   ],
   "source": [
    "class Catalogo: \n",
    "    peliculas = []\n",
    "    def __init__(self, peliculas=[]):\n",
    "        self.peliculas=peliculas\n",
    "    def agregar(self,p):\n",
    "        self.peliculas.append(p)\n",
    "        \n",
    "    def mostrar(self):\n",
    "        for p in self.peliculas:\n",
    "            print(p)\n",
    "            \n",
    "p=Pelicula(\"El padrino\",175,1972)\n",
    "c= Catalogo([p])\n",
    "c.mostrar()\n",
    "c.agregar(Pelicula(\"Iron Man\",220,2001))\n",
    "c.mostrar()"
   ]
  },
  {
   "cell_type": "markdown",
   "metadata": {},
   "source": [
    "#### Encapsulamiento de atributos y métodos\n"
   ]
  },
  {
   "cell_type": "markdown",
   "metadata": {},
   "source": [
    "A veces queremos que los atributos y métodos sean privados, para ello podemos encapsularlos"
   ]
  },
  {
   "cell_type": "code",
   "execution_count": 47,
   "metadata": {},
   "outputs": [
    {
     "data": {
      "text/plain": [
       "<bound method Ejemplo.__metodo_privado of <__main__.Ejemplo object at 0x000002738B335470>>"
      ]
     },
     "execution_count": 47,
     "metadata": {},
     "output_type": "execute_result"
    }
   ],
   "source": [
    "class Ejemplo:\n",
    "    __atributo_privado = \"Soy un atributo inalcanzable desde fuera\"\n",
    "    def __metodo_privado(self):\n",
    "        print(\"Soy un método inalcanzable desde fuera\")\n",
    "    def atributo_publico(self):\n",
    "        return self.__atributo_privado\n",
    "    def metodo_publico(self):\n",
    "        return self.__metodo_privado\n",
    "e=Ejemplo()\n",
    "e.atributo_publico() #Logramos tener acceso a un atributo privado desde adentro\n",
    "e.metodo_publico()"
   ]
  }
 ],
 "metadata": {
  "kernelspec": {
   "display_name": "Python 3",
   "language": "python",
   "name": "python3"
  },
  "language_info": {
   "codemirror_mode": {
    "name": "ipython",
    "version": 3
   },
   "file_extension": ".py",
   "mimetype": "text/x-python",
   "name": "python",
   "nbconvert_exporter": "python",
   "pygments_lexer": "ipython3",
   "version": "3.6.6"
  }
 },
 "nbformat": 4,
 "nbformat_minor": 2
}
